{
  "nbformat": 4,
  "nbformat_minor": 0,
  "metadata": {
    "colab": {
      "name": "AMSM_Assignment1.ipynb",
      "provenance": [],
      "collapsed_sections": []
    },
    "kernelspec": {
      "name": "python3",
      "display_name": "Python 3"
    }
  },
  "cells": [
    {
      "cell_type": "markdown",
      "metadata": {
        "id": "AaiA65CcoOIg",
        "colab_type": "text"
      },
      "source": [
        "## Q4. Part (a):"
      ]
    },
    {
      "cell_type": "code",
      "metadata": {
        "id": "dUSYKLg2Mb09",
        "colab_type": "code",
        "colab": {}
      },
      "source": [
        "import pandas as pd\n",
        "import numpy as np"
      ],
      "execution_count": 0,
      "outputs": []
    },
    {
      "cell_type": "code",
      "metadata": {
        "id": "YV-Oo88PNBjz",
        "colab_type": "code",
        "colab": {
          "base_uri": "https://localhost:8080/",
          "height": 195
        },
        "outputId": "4230bb3b-a6aa-4b54-8307-79e3f625a9f1"
      },
      "source": [
        "peru_data = pd.read_csv(\"/peru.txt\", sep=\"\\t\")\n",
        "peru_data.head()"
      ],
      "execution_count": 86,
      "outputs": [
        {
          "output_type": "execute_result",
          "data": {
            "text/html": [
              "<div>\n",
              "<style scoped>\n",
              "    .dataframe tbody tr th:only-of-type {\n",
              "        vertical-align: middle;\n",
              "    }\n",
              "\n",
              "    .dataframe tbody tr th {\n",
              "        vertical-align: top;\n",
              "    }\n",
              "\n",
              "    .dataframe thead th {\n",
              "        text-align: right;\n",
              "    }\n",
              "</style>\n",
              "<table border=\"1\" class=\"dataframe\">\n",
              "  <thead>\n",
              "    <tr style=\"text-align: right;\">\n",
              "      <th></th>\n",
              "      <th>Age</th>\n",
              "      <th>Years</th>\n",
              "      <th>Weight</th>\n",
              "      <th>Height</th>\n",
              "      <th>Chin</th>\n",
              "      <th>Forearm</th>\n",
              "      <th>Calf</th>\n",
              "      <th>Pulse</th>\n",
              "      <th>Systol</th>\n",
              "      <th>Diastol</th>\n",
              "    </tr>\n",
              "  </thead>\n",
              "  <tbody>\n",
              "    <tr>\n",
              "      <th>0</th>\n",
              "      <td>21</td>\n",
              "      <td>1</td>\n",
              "      <td>71.0</td>\n",
              "      <td>1629</td>\n",
              "      <td>8.0</td>\n",
              "      <td>7.0</td>\n",
              "      <td>12.7</td>\n",
              "      <td>88</td>\n",
              "      <td>170</td>\n",
              "      <td>76</td>\n",
              "    </tr>\n",
              "    <tr>\n",
              "      <th>1</th>\n",
              "      <td>22</td>\n",
              "      <td>6</td>\n",
              "      <td>56.5</td>\n",
              "      <td>1569</td>\n",
              "      <td>3.3</td>\n",
              "      <td>5.0</td>\n",
              "      <td>8.0</td>\n",
              "      <td>64</td>\n",
              "      <td>120</td>\n",
              "      <td>60</td>\n",
              "    </tr>\n",
              "    <tr>\n",
              "      <th>2</th>\n",
              "      <td>24</td>\n",
              "      <td>5</td>\n",
              "      <td>56.0</td>\n",
              "      <td>1561</td>\n",
              "      <td>3.3</td>\n",
              "      <td>1.3</td>\n",
              "      <td>4.3</td>\n",
              "      <td>68</td>\n",
              "      <td>125</td>\n",
              "      <td>75</td>\n",
              "    </tr>\n",
              "    <tr>\n",
              "      <th>3</th>\n",
              "      <td>24</td>\n",
              "      <td>1</td>\n",
              "      <td>61.0</td>\n",
              "      <td>1619</td>\n",
              "      <td>3.7</td>\n",
              "      <td>3.0</td>\n",
              "      <td>4.3</td>\n",
              "      <td>52</td>\n",
              "      <td>148</td>\n",
              "      <td>120</td>\n",
              "    </tr>\n",
              "    <tr>\n",
              "      <th>4</th>\n",
              "      <td>25</td>\n",
              "      <td>1</td>\n",
              "      <td>65.0</td>\n",
              "      <td>1566</td>\n",
              "      <td>9.0</td>\n",
              "      <td>12.7</td>\n",
              "      <td>20.7</td>\n",
              "      <td>72</td>\n",
              "      <td>140</td>\n",
              "      <td>78</td>\n",
              "    </tr>\n",
              "  </tbody>\n",
              "</table>\n",
              "</div>"
            ],
            "text/plain": [
              "   Age  Years  Weight  Height  Chin  Forearm  Calf  Pulse  Systol  Diastol\n",
              "0   21      1    71.0    1629   8.0      7.0  12.7     88     170       76\n",
              "1   22      6    56.5    1569   3.3      5.0   8.0     64     120       60\n",
              "2   24      5    56.0    1561   3.3      1.3   4.3     68     125       75\n",
              "3   24      1    61.0    1619   3.7      3.0   4.3     52     148      120\n",
              "4   25      1    65.0    1566   9.0     12.7  20.7     72     140       78"
            ]
          },
          "metadata": {
            "tags": []
          },
          "execution_count": 86
        }
      ]
    },
    {
      "cell_type": "code",
      "metadata": {
        "id": "f31cSdKWPKhk",
        "colab_type": "code",
        "colab": {}
      },
      "source": [
        "from sklearn.linear_model import LinearRegression\n",
        "\n",
        "age = peru_data[\"Age\"].values\n",
        "\n",
        "reg = LinearRegression().fit(age.reshape(-1, 1), peru_data[\"Systol\"])"
      ],
      "execution_count": 0,
      "outputs": []
    },
    {
      "cell_type": "code",
      "metadata": {
        "id": "X52QjVRTRVJG",
        "colab_type": "code",
        "colab": {}
      },
      "source": [
        "m = reg.coef_\n",
        "c = reg.intercept_"
      ],
      "execution_count": 0,
      "outputs": []
    },
    {
      "cell_type": "code",
      "metadata": {
        "id": "ENbexvOGNHKj",
        "colab_type": "code",
        "colab": {
          "base_uri": "https://localhost:8080/",
          "height": 296
        },
        "outputId": "0e988656-e09f-4259-979c-28e148899d12"
      },
      "source": [
        "import matplotlib.pyplot as plt\n",
        "\n",
        "plt.scatter(peru_data[\"Age\"], peru_data[\"Systol\"])\n",
        "plt.plot(peru_data[\"Age\"], m*peru_data[\"Age\"]+c, color=\"green\")\n",
        "plt.xlabel(\"Age\")\n",
        "plt.ylabel(\"Systol\")"
      ],
      "execution_count": 89,
      "outputs": [
        {
          "output_type": "execute_result",
          "data": {
            "text/plain": [
              "Text(0, 0.5, 'Systol')"
            ]
          },
          "metadata": {
            "tags": []
          },
          "execution_count": 89
        },
        {
          "output_type": "display_data",
          "data": {
            "image/png": "[encoded data removed]",
            "text/plain": [
              "<Figure size 432x288 with 1 Axes>"
            ]
          },
          "metadata": {
            "tags": []
          }
        }
      ]
    },
    {
      "cell_type": "markdown",
      "metadata": {
        "id": "Zynj3GgcpZr1",
        "colab_type": "text"
      },
      "source": [
        "**Conclusion:** There seems no trend between 'Age' and 'Systol' "
      ]
    },
    {
      "cell_type": "markdown",
      "metadata": {
        "id": "O5HQXwy4qsyV",
        "colab_type": "text"
      },
      "source": [
        "### Calculation of R-Squared and Adj. R-Squared"
      ]
    },
    {
      "cell_type": "code",
      "metadata": {
        "id": "Kz_aaStFSGx_",
        "colab_type": "code",
        "colab": {
          "base_uri": "https://localhost:8080/",
          "height": 50
        },
        "outputId": "0e982940-5f55-43f6-c3c4-13d0a8058a9b"
      },
      "source": [
        "y =  peru_data[\"Systol\"]\n",
        "X = age.reshape(-1, 1)\n",
        "\n",
        "y_hat = reg.predict(age.reshape(-1, 1))\n",
        "SS_Residual = sum((y-y_hat)**2)\n",
        "SS_Total = sum((y-np.mean(y))**2)\n",
        "r_squared = 1 - (float(SS_Residual))/SS_Total\n",
        "adjusted_r_squared = 1 - (1-r_squared)*(len(y)-1)/(len(y)-X.shape[1]-1)\n",
        "print (\"R-Squared:\", r_squared)\n",
        "print (\"Adj. R-Squared:\", adjusted_r_squared)"
      ],
      "execution_count": 94,
      "outputs": [
        {
          "output_type": "stream",
          "text": [
            "R-Squared: 3.4161769114748886e-05\n",
            "Adj. R-Squared: -0.02699194196685517\n"
          ],
          "name": "stdout"
        }
      ]
    },
    {
      "cell_type": "code",
      "metadata": {
        "id": "U6K-FsqIWm8y",
        "colab_type": "code",
        "colab": {
          "base_uri": "https://localhost:8080/",
          "height": 437
        },
        "outputId": "9efc767f-ee9b-42bd-8302-1fbfebd3b365"
      },
      "source": [
        "import statsmodels.api as sm\n",
        "from scipy import stats\n",
        "\n",
        "X2 = sm.add_constant(X)\n",
        "est = sm.OLS(y, X2)\n",
        "est2 = est.fit()\n",
        "print(est2.summary())"
      ],
      "execution_count": 95,
      "outputs": [
        {
          "output_type": "stream",
          "text": [
            "                            OLS Regression Results                            \n",
            "==============================================================================\n",
            "Dep. Variable:                 Systol   R-squared:                       0.000\n",
            "Model:                            OLS   Adj. R-squared:                 -0.027\n",
            "Method:                 Least Squares   F-statistic:                  0.001264\n",
            "Date:                Sat, 15 Feb 2020   Prob (F-statistic):              0.972\n",
            "Time:                        21:05:35   Log-Likelihood:                -155.19\n",
            "No. Observations:                  39   AIC:                             314.4\n",
            "Df Residuals:                      37   BIC:                             317.7\n",
            "Df Model:                           1                                         \n",
            "Covariance Type:            nonrobust                                         \n",
            "==============================================================================\n",
            "                 coef    std err          t      P>|t|      [0.025      0.975]\n",
            "------------------------------------------------------------------------------\n",
            "const        127.0460     10.463     12.143      0.000     105.847     148.245\n",
            "x1             0.0100      0.280      0.036      0.972      -0.558       0.578\n",
            "==============================================================================\n",
            "Omnibus:                        8.585   Durbin-Watson:                   1.635\n",
            "Prob(Omnibus):                  0.014   Jarque-Bera (JB):                7.538\n",
            "Skew:                           0.870   Prob(JB):                       0.0231\n",
            "Kurtosis:                       4.268   Cond. No.                         184.\n",
            "==============================================================================\n",
            "\n",
            "Warnings:\n",
            "[1] Standard Errors assume that the covariance matrix of the errors is correctly specified.\n"
          ],
          "name": "stdout"
        }
      ]
    },
    {
      "cell_type": "markdown",
      "metadata": {
        "id": "OrbU1JpLiRis",
        "colab_type": "text"
      },
      "source": [
        "**Conclusion:** the p-value for Age (0.972) is greater than the common alpha level of 0.05, which indicates that it is not statistically significant."
      ]
    },
    {
      "cell_type": "markdown",
      "metadata": {
        "id": "yARjZyZ0rxQr",
        "colab_type": "text"
      },
      "source": [
        "### Part (b):"
      ]
    },
    {
      "cell_type": "code",
      "metadata": {
        "id": "hSLGT7IIbWvY",
        "colab_type": "code",
        "colab": {
          "base_uri": "https://localhost:8080/",
          "height": 487
        },
        "outputId": "b2333b2e-00e5-49ad-8dd1-b53ec4a59841"
      },
      "source": [
        "y =  peru_data[\"Systol\"]\n",
        "X = peru_data[[\"Age\", \"Pulse\"]]\n",
        "\n",
        "X2 = sm.add_constant(X)\n",
        "est = sm.OLS(y, X2)\n",
        "est2 = est.fit()\n",
        "print(est2.summary())"
      ],
      "execution_count": 96,
      "outputs": [
        {
          "output_type": "stream",
          "text": [
            "                            OLS Regression Results                            \n",
            "==============================================================================\n",
            "Dep. Variable:                 Systol   R-squared:                       0.018\n",
            "Model:                            OLS   Adj. R-squared:                 -0.036\n",
            "Method:                 Least Squares   F-statistic:                    0.3373\n",
            "Date:                Sat, 15 Feb 2020   Prob (F-statistic):              0.716\n",
            "Time:                        21:09:35   Log-Likelihood:                -154.83\n",
            "No. Observations:                  39   AIC:                             315.7\n",
            "Df Residuals:                      36   BIC:                             320.7\n",
            "Df Model:                           2                                         \n",
            "Covariance Type:            nonrobust                                         \n",
            "==============================================================================\n",
            "                 coef    std err          t      P>|t|      [0.025      0.975]\n",
            "------------------------------------------------------------------------------\n",
            "const        114.6104     18.441      6.215      0.000      77.209     152.011\n",
            "Age           -0.0111      0.283     -0.039      0.969      -0.585       0.562\n",
            "Pulse          0.1878      0.229      0.821      0.417      -0.276       0.652\n",
            "==============================================================================\n",
            "Omnibus:                        4.338   Durbin-Watson:                   1.695\n",
            "Prob(Omnibus):                  0.114   Jarque-Bera (JB):                3.034\n",
            "Skew:                           0.617   Prob(JB):                        0.219\n",
            "Kurtosis:                       3.585   Cond. No.                         689.\n",
            "==============================================================================\n",
            "\n",
            "Warnings:\n",
            "[1] Standard Errors assume that the covariance matrix of the errors is correctly specified.\n"
          ],
          "name": "stdout"
        },
        {
          "output_type": "stream",
          "text": [
            "/usr/local/lib/python3.6/dist-packages/numpy/core/fromnumeric.py:2495: FutureWarning: Method .ptp is deprecated and will be removed in a future version. Use numpy.ptp instead.\n",
            "  return ptp(axis=axis, out=out, **kwargs)\n"
          ],
          "name": "stderr"
        }
      ]
    },
    {
      "cell_type": "markdown",
      "metadata": {
        "id": "bwGHZT0osB8Q",
        "colab_type": "text"
      },
      "source": [
        "**Result:** The model has improved very slightly judging from the increase in R2 score."
      ]
    },
    {
      "cell_type": "markdown",
      "metadata": {
        "id": "NUDp-HrjgLcL",
        "colab_type": "text"
      },
      "source": [
        "## Part (b): Calculation of Wald's Test t-statistic for coefficients"
      ]
    },
    {
      "cell_type": "code",
      "metadata": {
        "id": "vCchBKRPwAQR",
        "colab_type": "code",
        "colab": {
          "base_uri": "https://localhost:8080/",
          "height": 672
        },
        "outputId": "7fb3f83e-b578-4cae-ca84-766809a96db6"
      },
      "source": [
        "feat = peru_data[[\"Age\", \"Pulse\"]].values\n",
        "z = np.array(feat)\n",
        "print(z)"
      ],
      "execution_count": 97,
      "outputs": [
        {
          "output_type": "stream",
          "text": [
            "[[21 88]\n",
            " [22 64]\n",
            " [24 68]\n",
            " [24 52]\n",
            " [25 72]\n",
            " [27 72]\n",
            " [28 64]\n",
            " [28 80]\n",
            " [31 76]\n",
            " [32 60]\n",
            " [33 68]\n",
            " [33 72]\n",
            " [34 88]\n",
            " [35 60]\n",
            " [35 60]\n",
            " [36 72]\n",
            " [36 84]\n",
            " [37 64]\n",
            " [37 72]\n",
            " [38 64]\n",
            " [38 80]\n",
            " [38 76]\n",
            " [38 60]\n",
            " [39 64]\n",
            " [39 64]\n",
            " [39 68]\n",
            " [41 76]\n",
            " [41 60]\n",
            " [41 76]\n",
            " [42 88]\n",
            " [43 72]\n",
            " [43 68]\n",
            " [43 60]\n",
            " [44 74]\n",
            " [44 72]\n",
            " [45 56]\n",
            " [47 64]\n",
            " [50 72]\n",
            " [54 92]]\n"
          ],
          "name": "stdout"
        }
      ]
    },
    {
      "cell_type": "code",
      "metadata": {
        "id": "5UliDJu8-Zc4",
        "colab_type": "code",
        "colab": {
          "base_uri": "https://localhost:8080/",
          "height": 672
        },
        "outputId": "c2a0e578-5043-4451-f08d-499e0a62a5fa"
      },
      "source": [
        "one_vect = np.ones((39,1))\n",
        "X = np.concatenate((one_vect, feat), axis=1)\n",
        "print(X)"
      ],
      "execution_count": 98,
      "outputs": [
        {
          "output_type": "stream",
          "text": [
            "[[ 1. 21. 88.]\n",
            " [ 1. 22. 64.]\n",
            " [ 1. 24. 68.]\n",
            " [ 1. 24. 52.]\n",
            " [ 1. 25. 72.]\n",
            " [ 1. 27. 72.]\n",
            " [ 1. 28. 64.]\n",
            " [ 1. 28. 80.]\n",
            " [ 1. 31. 76.]\n",
            " [ 1. 32. 60.]\n",
            " [ 1. 33. 68.]\n",
            " [ 1. 33. 72.]\n",
            " [ 1. 34. 88.]\n",
            " [ 1. 35. 60.]\n",
            " [ 1. 35. 60.]\n",
            " [ 1. 36. 72.]\n",
            " [ 1. 36. 84.]\n",
            " [ 1. 37. 64.]\n",
            " [ 1. 37. 72.]\n",
            " [ 1. 38. 64.]\n",
            " [ 1. 38. 80.]\n",
            " [ 1. 38. 76.]\n",
            " [ 1. 38. 60.]\n",
            " [ 1. 39. 64.]\n",
            " [ 1. 39. 64.]\n",
            " [ 1. 39. 68.]\n",
            " [ 1. 41. 76.]\n",
            " [ 1. 41. 60.]\n",
            " [ 1. 41. 76.]\n",
            " [ 1. 42. 88.]\n",
            " [ 1. 43. 72.]\n",
            " [ 1. 43. 68.]\n",
            " [ 1. 43. 60.]\n",
            " [ 1. 44. 74.]\n",
            " [ 1. 44. 72.]\n",
            " [ 1. 45. 56.]\n",
            " [ 1. 47. 64.]\n",
            " [ 1. 50. 72.]\n",
            " [ 1. 54. 92.]]\n"
          ],
          "name": "stdout"
        }
      ]
    },
    {
      "cell_type": "code",
      "metadata": {
        "id": "S4xAGJQuCG-e",
        "colab_type": "code",
        "colab": {
          "base_uri": "https://localhost:8080/",
          "height": 67
        },
        "outputId": "784e1195-e17f-41a2-ae9c-8a63d7dd3d4f"
      },
      "source": [
        "X_dash = np.matmul(X.T, X)\n",
        "print(X_dash)"
      ],
      "execution_count": 99,
      "outputs": [
        {
          "output_type": "stream",
          "text": [
            "[[3.90000e+01 1.42500e+03 2.74200e+03]\n",
            " [1.42500e+03 5.43130e+04 1.00440e+05]\n",
            " [2.74200e+03 1.00440e+05 1.96212e+05]]\n"
          ],
          "name": "stdout"
        }
      ]
    },
    {
      "cell_type": "code",
      "metadata": {
        "id": "dNxg0UjzCiV4",
        "colab_type": "code",
        "colab": {
          "base_uri": "https://localhost:8080/",
          "height": 67
        },
        "outputId": "fabd1712-e85c-4986-eb04-9403497ee873"
      },
      "source": [
        "X_dash_inv = np.linalg.inv(X_dash)\n",
        "print(X_dash_inv)"
      ],
      "execution_count": 100,
      "outputs": [
        {
          "output_type": "stream",
          "text": [
            "[[ 1.90962723e+00 -1.40891690e-02 -1.94742510e-02]\n",
            " [-1.40891690e-02  4.48986860e-04 -3.29426277e-05]\n",
            " [-1.94742510e-02 -3.29426277e-05  2.94106139e-04]]\n"
          ],
          "name": "stdout"
        }
      ]
    },
    {
      "cell_type": "code",
      "metadata": {
        "id": "tzfXsDuVE86X",
        "colab_type": "code",
        "colab": {
          "base_uri": "https://localhost:8080/",
          "height": 34
        },
        "outputId": "f00f0d20-434d-403b-a460-660e7fe37f61"
      },
      "source": [
        "y = peru_data[\"Systol\"].values\n",
        "temp = np.matmul(X_dash_inv, X.T)\n",
        "beta_hat = np.matmul(temp, y)\n",
        "\n",
        "print(beta_hat)"
      ],
      "execution_count": 101,
      "outputs": [
        {
          "output_type": "stream",
          "text": [
            "[ 1.14610383e+02 -1.10683602e-02  1.87807250e-01]\n"
          ],
          "name": "stdout"
        }
      ]
    },
    {
      "cell_type": "code",
      "metadata": {
        "id": "XGPUK5XGGG_n",
        "colab_type": "code",
        "colab": {
          "base_uri": "https://localhost:8080/",
          "height": 34
        },
        "outputId": "959f8331-77f6-4ecc-9381-3c585a8ab33f"
      },
      "source": [
        "var_hat = (1/(39-2-1))*np.matmul((y-np.matmul(X, beta_hat)).T , (y-np.matmul(X, beta_hat))) # Formula from Dobson-Barnett\n",
        "print(var_hat)"
      ],
      "execution_count": 103,
      "outputs": [
        {
          "output_type": "stream",
          "text": [
            "178.0912434492695\n"
          ],
          "name": "stdout"
        }
      ]
    },
    {
      "cell_type": "code",
      "metadata": {
        "id": "hD_fQfvzabVD",
        "colab_type": "code",
        "colab": {
          "base_uri": "https://localhost:8080/",
          "height": 67
        },
        "outputId": "3cea541a-93c3-45ef-a90c-cde580694a46"
      },
      "source": [
        "var = [\"const\", \"Age\", \"Pulse\"]\n",
        "\n",
        "for i in range(3):\n",
        "  t = beta_hat[i]/np.sqrt(var_hat*X_dash_inv[i][i])\n",
        "  print(\"t-statistic for\", var[i],\":\", t)"
      ],
      "execution_count": 104,
      "outputs": [
        {
          "output_type": "stream",
          "text": [
            "t-statistic for const : 6.214817513291024\n",
            "t-statistic for Age : -0.03914219597830208\n",
            "t-statistic for Pulse : 0.8206141979675482\n"
          ],
          "name": "stdout"
        }
      ]
    },
    {
      "cell_type": "markdown",
      "metadata": {
        "id": "_PSSp5wqtX0S",
        "colab_type": "text"
      },
      "source": [
        "**Conclusion:** Both variables are not significant as t_crit(df=36) = 1.69 for alpha = 0.05. Pulse is more significant as compared to Age.\n"
      ]
    },
    {
      "cell_type": "markdown",
      "metadata": {
        "id": "C9H1a7CliGVj",
        "colab_type": "text"
      },
      "source": [
        "## Part (c): Likelihood Ratio Test"
      ]
    },
    {
      "cell_type": "code",
      "metadata": {
        "id": "dZ7FEkmZbXci",
        "colab_type": "code",
        "colab": {
          "base_uri": "https://localhost:8080/",
          "height": 34
        },
        "outputId": "4cbf0dcf-b851-4bb4-9398-05f59e83ad08"
      },
      "source": [
        "from scipy.stats.distributions import chi2\n",
        "\n",
        "def likelihood_ratio(llmin, llmax):\n",
        "    return(2*(llmax-llmin))\n",
        "\n",
        "LR = likelihood_ratio(-155.19,-154.83)      #Using the log-likelihood results obtained above\n",
        "\n",
        "p = chi2.sf(LR, 1) # L2 has 1 DoF more than L1\n",
        "\n",
        "print ('p: %.30f' % p) "
      ],
      "execution_count": 84,
      "outputs": [
        {
          "output_type": "stream",
          "text": [
            "p: 0.396143909152083639746422250028\n"
          ],
          "name": "stdout"
        }
      ]
    },
    {
      "cell_type": "markdown",
      "metadata": {
        "id": "2ienGWvikNOq",
        "colab_type": "text"
      },
      "source": [
        "**Conclusion**: Owing to high p-value, it can be concluded that model doesn't performs significantly better after addition of X9."
      ]
    },
    {
      "cell_type": "markdown",
      "metadata": {
        "id": "qRoHkjpkntMh",
        "colab_type": "text"
      },
      "source": [
        "## Part (d)"
      ]
    },
    {
      "cell_type": "code",
      "metadata": {
        "id": "0CzhKsr--HYA",
        "colab_type": "code",
        "colab": {}
      },
      "source": [
        "from statsmodels.formula.api import ols\n",
        "from statsmodels.stats.anova import anova_lm"
      ],
      "execution_count": 0,
      "outputs": []
    },
    {
      "cell_type": "code",
      "metadata": {
        "id": "y_bJncC6IOj9",
        "colab_type": "code",
        "colab": {}
      },
      "source": [
        "peru_data[\"X3\"] = peru_data[\"Years\"]/peru_data[\"Age\"] #Creating a new variable: X3"
      ],
      "execution_count": 0,
      "outputs": []
    },
    {
      "cell_type": "code",
      "metadata": {
        "id": "XfKIePNDCL0n",
        "colab_type": "code",
        "colab": {
          "base_uri": "https://localhost:8080/",
          "height": 588
        },
        "outputId": "7c3dc762-b3ab-409b-a8ad-019ca6d29f14"
      },
      "source": [
        "# Fit the model\n",
        "model = ols(\"Systol ~ Age+Weight+Height+Chin+Forearm+Calf+Pulse+X3\", peru_data).fit()\n",
        "\n",
        "# Print the summary\n",
        "print(model.summary())"
      ],
      "execution_count": 133,
      "outputs": [
        {
          "output_type": "stream",
          "text": [
            "                            OLS Regression Results                            \n",
            "==============================================================================\n",
            "Dep. Variable:                 Systol   R-squared:                       0.563\n",
            "Model:                            OLS   Adj. R-squared:                  0.447\n",
            "Method:                 Least Squares   F-statistic:                     4.834\n",
            "Date:                Sat, 15 Feb 2020   Prob (F-statistic):           0.000680\n",
            "Time:                        22:29:14   Log-Likelihood:                -139.05\n",
            "No. Observations:                  39   AIC:                             296.1\n",
            "Df Residuals:                      30   BIC:                             311.1\n",
            "Df Model:                           8                                         \n",
            "Covariance Type:            nonrobust                                         \n",
            "==============================================================================\n",
            "                 coef    std err          t      P>|t|      [0.025      0.975]\n",
            "------------------------------------------------------------------------------\n",
            "Intercept    131.4983     54.879      2.396      0.023      19.420     243.577\n",
            "Age           -0.4026      0.253     -1.593      0.122      -0.919       0.114\n",
            "Weight         2.0306      0.427      4.751      0.000       1.158       2.903\n",
            "Height        -0.0634      0.040     -1.580      0.125      -0.145       0.019\n",
            "Chin          -1.2406      0.827     -1.499      0.144      -2.931       0.449\n",
            "Forearm       -1.1339      1.344     -0.843      0.406      -3.880       1.612\n",
            "Calf           0.1067      0.597      0.179      0.859      -1.113       1.326\n",
            "Pulse          0.0704      0.191      0.368      0.715      -0.320       0.461\n",
            "X3           -26.8097      7.844     -3.418      0.002     -42.829     -10.790\n",
            "==============================================================================\n",
            "Omnibus:                        2.586   Durbin-Watson:                   2.231\n",
            "Prob(Omnibus):                  0.274   Jarque-Bera (JB):                1.368\n",
            "Skew:                          -0.020   Prob(JB):                        0.505\n",
            "Kurtosis:                       2.083   Cond. No.                     5.56e+04\n",
            "==============================================================================\n",
            "\n",
            "Warnings:\n",
            "[1] Standard Errors assume that the covariance matrix of the errors is correctly specified.\n",
            "[2] The condition number is large, 5.56e+04. This might indicate that there are\n",
            "strong multicollinearity or other numerical problems.\n"
          ],
          "name": "stdout"
        }
      ]
    },
    {
      "cell_type": "markdown",
      "metadata": {
        "id": "usXSlKmZubmL",
        "colab_type": "text"
      },
      "source": [
        "Conclusion: X3 and weight are significantly influencing Systolic BP. Chin, Age and Height also contribute reasonably to the model.\n",
        "\n"
      ]
    },
    {
      "cell_type": "code",
      "metadata": {
        "id": "24ss3K039N9S",
        "colab_type": "code",
        "colab": {
          "base_uri": "https://localhost:8080/",
          "height": 218
        },
        "outputId": "3f5e9ed5-7b03-4d07-9858-ebdd51b51572"
      },
      "source": [
        "# Peform analysis of variance on fitted linear model\n",
        "anova_results = anova_lm(model)\n",
        "\n",
        "print('\\nANOVA results')\n",
        "print(anova_results)"
      ],
      "execution_count": 134,
      "outputs": [
        {
          "output_type": "stream",
          "text": [
            "\n",
            "ANOVA results\n",
            "            df       sum_sq      mean_sq          F    PR(>F)\n",
            "Age        1.0     0.223125     0.223125   0.002346  0.961690\n",
            "Weight     1.0  2160.881800  2160.881800  22.719984  0.000045\n",
            "Height     1.0    23.729985    23.729985   0.249502  0.621070\n",
            "Chin       1.0   305.331505   305.331505   3.210322  0.083268\n",
            "Forearm    1.0    12.056690    12.056690   0.126767  0.724300\n",
            "Calf       1.0    59.342722    59.342722   0.623942  0.435785\n",
            "Pulse      1.0     5.549350     5.549350   0.058347  0.810771\n",
            "X3         1.0  1111.041745  1111.041745  11.681736  0.001835\n",
            "Residual  30.0  2853.278976    95.109299        NaN       NaN\n"
          ],
          "name": "stdout"
        }
      ]
    },
    {
      "cell_type": "markdown",
      "metadata": {
        "id": "nz-ikYipBEZX",
        "colab_type": "text"
      },
      "source": [
        "Null Hypothesis for ANOVA is that the means of the independent variables are identical.\n",
        "\n",
        "It may also be concluded that Weight, Chin and X3 are significant for alpha = 0.1."
      ]
    },
    {
      "cell_type": "markdown",
      "metadata": {
        "id": "g8acT1fQ0DnQ",
        "colab_type": "text"
      },
      "source": [
        "### Part (e):"
      ]
    },
    {
      "cell_type": "code",
      "metadata": {
        "id": "kK01LS5OzED1",
        "colab_type": "code",
        "colab": {
          "base_uri": "https://localhost:8080/",
          "height": 538
        },
        "outputId": "874f0acc-2c02-416e-d7dd-730bca2b8818"
      },
      "source": [
        "# Fit the model with significant parameters from part (d)\n",
        "model = ols(\"Systol ~ Weight+X3+Chin+Age+Height\", peru_data).fit()\n",
        "\n",
        "# Print the summary\n",
        "print(model.summary())"
      ],
      "execution_count": 125,
      "outputs": [
        {
          "output_type": "stream",
          "text": [
            "                            OLS Regression Results                            \n",
            "==============================================================================\n",
            "Dep. Variable:                 Systol   R-squared:                       0.551\n",
            "Model:                            OLS   Adj. R-squared:                  0.483\n",
            "Method:                 Least Squares   F-statistic:                     8.088\n",
            "Date:                Sat, 15 Feb 2020   Prob (F-statistic):           4.56e-05\n",
            "Time:                        21:42:57   Log-Likelihood:                -139.60\n",
            "No. Observations:                  39   AIC:                             291.2\n",
            "Df Residuals:                      33   BIC:                             301.2\n",
            "Df Model:                           5                                         \n",
            "Covariance Type:            nonrobust                                         \n",
            "==============================================================================\n",
            "                 coef    std err          t      P>|t|      [0.025      0.975]\n",
            "------------------------------------------------------------------------------\n",
            "Intercept    120.9065     49.263      2.454      0.020      20.681     221.132\n",
            "Weight         1.8603      0.357      5.214      0.000       1.134       2.586\n",
            "X3           -25.6096      7.261     -3.527      0.001     -40.382     -10.837\n",
            "Chin          -1.4977      0.740     -2.023      0.051      -3.004       0.008\n",
            "Age           -0.3495      0.236     -1.483      0.148      -0.829       0.130\n",
            "Height        -0.0504      0.036     -1.409      0.168      -0.123       0.022\n",
            "==============================================================================\n",
            "Omnibus:                        1.177   Durbin-Watson:                   2.143\n",
            "Prob(Omnibus):                  0.555   Jarque-Bera (JB):                0.937\n",
            "Skew:                           0.074   Prob(JB):                        0.626\n",
            "Kurtosis:                       2.255   Cond. No.                     5.16e+04\n",
            "==============================================================================\n",
            "\n",
            "Warnings:\n",
            "[1] Standard Errors assume that the covariance matrix of the errors is correctly specified.\n",
            "[2] The condition number is large, 5.16e+04. This might indicate that there are\n",
            "strong multicollinearity or other numerical problems.\n"
          ],
          "name": "stdout"
        }
      ]
    },
    {
      "cell_type": "code",
      "metadata": {
        "id": "ggiHjy500Y16",
        "colab_type": "code",
        "colab": {
          "base_uri": "https://localhost:8080/",
          "height": 521
        },
        "outputId": "94811d62-6d8c-4e89-9b66-a2e5630133d1"
      },
      "source": [
        "# Fit the model with parameters X1, X2, X3, X4:\n",
        "model = ols(\"Systol ~ Weight+X3+Age+Years\", peru_data).fit()\n",
        "\n",
        "# Print the summary\n",
        "print(model.summary())"
      ],
      "execution_count": 132,
      "outputs": [
        {
          "output_type": "stream",
          "text": [
            "                            OLS Regression Results                            \n",
            "==============================================================================\n",
            "Dep. Variable:                 Systol   R-squared:                       0.597\n",
            "Model:                            OLS   Adj. R-squared:                  0.550\n",
            "Method:                 Least Squares   F-statistic:                     12.61\n",
            "Date:                Sat, 15 Feb 2020   Prob (F-statistic):           2.14e-06\n",
            "Time:                        21:53:18   Log-Likelihood:                -137.45\n",
            "No. Observations:                  39   AIC:                             284.9\n",
            "Df Residuals:                      34   BIC:                             293.2\n",
            "Df Model:                           4                                         \n",
            "Covariance Type:            nonrobust                                         \n",
            "==============================================================================\n",
            "                 coef    std err          t      P>|t|      [0.025      0.975]\n",
            "------------------------------------------------------------------------------\n",
            "Intercept    116.8354     21.980      5.316      0.000      72.167     161.503\n",
            "Weight         0.8324      0.275      3.022      0.005       0.273       1.392\n",
            "X3          -108.0728     28.330     -3.815      0.001    -165.647     -50.499\n",
            "Age           -0.9507      0.316     -3.004      0.005      -1.594      -0.308\n",
            "Years          2.3393      0.771      3.032      0.005       0.772       3.907\n",
            "==============================================================================\n",
            "Omnibus:                        1.845   Durbin-Watson:                   2.332\n",
            "Prob(Omnibus):                  0.397   Jarque-Bera (JB):                1.183\n",
            "Skew:                           0.088   Prob(JB):                        0.554\n",
            "Kurtosis:                       2.165   Cond. No.                     1.80e+03\n",
            "==============================================================================\n",
            "\n",
            "Warnings:\n",
            "[1] Standard Errors assume that the covariance matrix of the errors is correctly specified.\n",
            "[2] The condition number is large, 1.8e+03. This might indicate that there are\n",
            "strong multicollinearity or other numerical problems.\n"
          ],
          "name": "stdout"
        }
      ]
    },
    {
      "cell_type": "code",
      "metadata": {
        "id": "LXRPRlMq1b8a",
        "colab_type": "code",
        "colab": {
          "base_uri": "https://localhost:8080/",
          "height": 195
        },
        "outputId": "085db68e-3d5a-4a78-955b-fcc4cb0f8f82"
      },
      "source": [
        "model.conf_int(0.05)   # 95% confidence interval for parameters"
      ],
      "execution_count": 131,
      "outputs": [
        {
          "output_type": "execute_result",
          "data": {
            "text/html": [
              "<div>\n",
              "<style scoped>\n",
              "    .dataframe tbody tr th:only-of-type {\n",
              "        vertical-align: middle;\n",
              "    }\n",
              "\n",
              "    .dataframe tbody tr th {\n",
              "        vertical-align: top;\n",
              "    }\n",
              "\n",
              "    .dataframe thead th {\n",
              "        text-align: right;\n",
              "    }\n",
              "</style>\n",
              "<table border=\"1\" class=\"dataframe\">\n",
              "  <thead>\n",
              "    <tr style=\"text-align: right;\">\n",
              "      <th></th>\n",
              "      <th>0</th>\n",
              "      <th>1</th>\n",
              "    </tr>\n",
              "  </thead>\n",
              "  <tbody>\n",
              "    <tr>\n",
              "      <th>Intercept</th>\n",
              "      <td>72.167299</td>\n",
              "      <td>161.503413</td>\n",
              "    </tr>\n",
              "    <tr>\n",
              "      <th>Weight</th>\n",
              "      <td>0.272705</td>\n",
              "      <td>1.392107</td>\n",
              "    </tr>\n",
              "    <tr>\n",
              "      <th>X3</th>\n",
              "      <td>-165.646625</td>\n",
              "      <td>-50.499037</td>\n",
              "    </tr>\n",
              "    <tr>\n",
              "      <th>Age</th>\n",
              "      <td>-1.593752</td>\n",
              "      <td>-0.307579</td>\n",
              "    </tr>\n",
              "    <tr>\n",
              "      <th>Years</th>\n",
              "      <td>0.771527</td>\n",
              "      <td>3.906981</td>\n",
              "    </tr>\n",
              "  </tbody>\n",
              "</table>\n",
              "</div>"
            ],
            "text/plain": [
              "                    0           1\n",
              "Intercept   72.167299  161.503413\n",
              "Weight       0.272705    1.392107\n",
              "X3        -165.646625  -50.499037\n",
              "Age         -1.593752   -0.307579\n",
              "Years        0.771527    3.906981"
            ]
          },
          "metadata": {
            "tags": []
          },
          "execution_count": 131
        }
      ]
    },
    {
      "cell_type": "markdown",
      "metadata": {
        "id": "fKdh5ODKwTIL",
        "colab_type": "text"
      },
      "source": [
        "# Question 2:"
      ]
    },
    {
      "cell_type": "code",
      "metadata": {
        "id": "v7Yp_URACV06",
        "colab_type": "code",
        "colab": {
          "base_uri": "https://localhost:8080/",
          "height": 268
        },
        "outputId": "0cd064d6-9688-4333-cf06-3021de700e95"
      },
      "source": [
        "# Normal Distribution: N(10,4) \n",
        "\n",
        "import matplotlib.pyplot as plt\n",
        "\n",
        "mu, sigma = 10, 2 # mean and standard deviation\n",
        "s = np.random.normal(mu, sigma, 100)\n",
        "\n",
        "count, bins, ignored = plt.hist(s, 30, density=True)\n",
        "plt.plot(bins, 1/(sigma * np.sqrt(2 * np.pi))*np.exp( - (bins - mu)**2 / (2 * sigma**2) ),linewidth=3, color='r')\n",
        "\n",
        "plt.show()"
      ],
      "execution_count": 117,
      "outputs": [
        {
          "output_type": "display_data",
          "data": {
            "image/png": "[encoded data removed]",
            "text/plain": [
              "<Figure size 432x288 with 1 Axes>"
            ]
          },
          "metadata": {
            "tags": []
          }
        }
      ]
    },
    {
      "cell_type": "code",
      "metadata": {
        "id": "1neGY2VxmJn0",
        "colab_type": "code",
        "colab": {
          "base_uri": "https://localhost:8080/",
          "height": 265
        },
        "outputId": "6e7b4bb1-c17c-47c9-bb4a-26f0c420fc7a"
      },
      "source": [
        "# Poisson Distribution: Poisson(10)\n",
        "\n",
        "s_poisson = np.random.poisson(lam=10, size=100)\n",
        "\n",
        "count, bins, ignored = plt.hist(s_poisson, 30, density=True)\n",
        "plt.plot(bins, 1/(sigma * np.sqrt(2 * np.pi))*np.exp( - (bins - mu)**2 / (2 * sigma**2) ),linewidth=3, color='r')\n",
        "\n",
        "plt.show()"
      ],
      "execution_count": 118,
      "outputs": [
        {
          "output_type": "display_data",
          "data": {
            "image/png": "[encoded data removed]",
            "text/plain": [
              "<Figure size 432x288 with 1 Axes>"
            ]
          },
          "metadata": {
            "tags": []
          }
        }
      ]
    },
    {
      "cell_type": "markdown",
      "metadata": {
        "id": "qTISGZETxVdg",
        "colab_type": "text"
      },
      "source": [
        "# Question 5:"
      ]
    },
    {
      "cell_type": "code",
      "metadata": {
        "id": "cR9NNTJ9nQSH",
        "colab_type": "code",
        "colab": {
          "base_uri": "https://localhost:8080/",
          "height": 195
        },
        "outputId": "6ed9187b-791a-4fed-ae0a-a738784057b4"
      },
      "source": [
        "import pandas as pd\n",
        "\n",
        "salary_data = pd.read_csv(\"/salary.txt\", delim_whitespace=True)\n",
        "salary_data.head()"
      ],
      "execution_count": 119,
      "outputs": [
        {
          "output_type": "execute_result",
          "data": {
            "text/html": [
              "<div>\n",
              "<style scoped>\n",
              "    .dataframe tbody tr th:only-of-type {\n",
              "        vertical-align: middle;\n",
              "    }\n",
              "\n",
              "    .dataframe tbody tr th {\n",
              "        vertical-align: top;\n",
              "    }\n",
              "\n",
              "    .dataframe thead th {\n",
              "        text-align: right;\n",
              "    }\n",
              "</style>\n",
              "<table border=\"1\" class=\"dataframe\">\n",
              "  <thead>\n",
              "    <tr style=\"text-align: right;\">\n",
              "      <th></th>\n",
              "      <th>sx</th>\n",
              "      <th>rk</th>\n",
              "      <th>yr</th>\n",
              "      <th>dg</th>\n",
              "      <th>yd</th>\n",
              "      <th>sl</th>\n",
              "    </tr>\n",
              "  </thead>\n",
              "  <tbody>\n",
              "    <tr>\n",
              "      <th>0</th>\n",
              "      <td>male</td>\n",
              "      <td>full</td>\n",
              "      <td>25</td>\n",
              "      <td>doctorate</td>\n",
              "      <td>35</td>\n",
              "      <td>36350</td>\n",
              "    </tr>\n",
              "    <tr>\n",
              "      <th>1</th>\n",
              "      <td>male</td>\n",
              "      <td>full</td>\n",
              "      <td>13</td>\n",
              "      <td>doctorate</td>\n",
              "      <td>22</td>\n",
              "      <td>35350</td>\n",
              "    </tr>\n",
              "    <tr>\n",
              "      <th>2</th>\n",
              "      <td>male</td>\n",
              "      <td>full</td>\n",
              "      <td>10</td>\n",
              "      <td>doctorate</td>\n",
              "      <td>23</td>\n",
              "      <td>28200</td>\n",
              "    </tr>\n",
              "    <tr>\n",
              "      <th>3</th>\n",
              "      <td>female</td>\n",
              "      <td>full</td>\n",
              "      <td>7</td>\n",
              "      <td>doctorate</td>\n",
              "      <td>27</td>\n",
              "      <td>26775</td>\n",
              "    </tr>\n",
              "    <tr>\n",
              "      <th>4</th>\n",
              "      <td>male</td>\n",
              "      <td>full</td>\n",
              "      <td>19</td>\n",
              "      <td>masters</td>\n",
              "      <td>30</td>\n",
              "      <td>33696</td>\n",
              "    </tr>\n",
              "  </tbody>\n",
              "</table>\n",
              "</div>"
            ],
            "text/plain": [
              "       sx    rk  yr         dg  yd     sl\n",
              "0    male  full  25  doctorate  35  36350\n",
              "1    male  full  13  doctorate  22  35350\n",
              "2    male  full  10  doctorate  23  28200\n",
              "3  female  full   7  doctorate  27  26775\n",
              "4    male  full  19    masters  30  33696"
            ]
          },
          "metadata": {
            "tags": []
          },
          "execution_count": 119
        }
      ]
    },
    {
      "cell_type": "code",
      "metadata": {
        "id": "qLmM49VhORAh",
        "colab_type": "code",
        "colab": {
          "base_uri": "https://localhost:8080/",
          "height": 195
        },
        "outputId": "96a36feb-2bca-42d5-bb76-9d5332330c2a"
      },
      "source": [
        "# Coding the categorial variables\n",
        "\n",
        "replace_map = {'sx': {'male': 0, 'female': 1}, \n",
        "               'rk':{'assistant':1, 'associate':2, 'full':3}, \n",
        "               'dg':{'doctorate':1, 'masters':0}}\n",
        "\n",
        "salary_data_encoded = salary_data.replace(replace_map)\n",
        "\n",
        "salary_data_encoded.head()"
      ],
      "execution_count": 120,
      "outputs": [
        {
          "output_type": "execute_result",
          "data": {
            "text/html": [
              "<div>\n",
              "<style scoped>\n",
              "    .dataframe tbody tr th:only-of-type {\n",
              "        vertical-align: middle;\n",
              "    }\n",
              "\n",
              "    .dataframe tbody tr th {\n",
              "        vertical-align: top;\n",
              "    }\n",
              "\n",
              "    .dataframe thead th {\n",
              "        text-align: right;\n",
              "    }\n",
              "</style>\n",
              "<table border=\"1\" class=\"dataframe\">\n",
              "  <thead>\n",
              "    <tr style=\"text-align: right;\">\n",
              "      <th></th>\n",
              "      <th>sx</th>\n",
              "      <th>rk</th>\n",
              "      <th>yr</th>\n",
              "      <th>dg</th>\n",
              "      <th>yd</th>\n",
              "      <th>sl</th>\n",
              "    </tr>\n",
              "  </thead>\n",
              "  <tbody>\n",
              "    <tr>\n",
              "      <th>0</th>\n",
              "      <td>0</td>\n",
              "      <td>3</td>\n",
              "      <td>25</td>\n",
              "      <td>1</td>\n",
              "      <td>35</td>\n",
              "      <td>36350</td>\n",
              "    </tr>\n",
              "    <tr>\n",
              "      <th>1</th>\n",
              "      <td>0</td>\n",
              "      <td>3</td>\n",
              "      <td>13</td>\n",
              "      <td>1</td>\n",
              "      <td>22</td>\n",
              "      <td>35350</td>\n",
              "    </tr>\n",
              "    <tr>\n",
              "      <th>2</th>\n",
              "      <td>0</td>\n",
              "      <td>3</td>\n",
              "      <td>10</td>\n",
              "      <td>1</td>\n",
              "      <td>23</td>\n",
              "      <td>28200</td>\n",
              "    </tr>\n",
              "    <tr>\n",
              "      <th>3</th>\n",
              "      <td>1</td>\n",
              "      <td>3</td>\n",
              "      <td>7</td>\n",
              "      <td>1</td>\n",
              "      <td>27</td>\n",
              "      <td>26775</td>\n",
              "    </tr>\n",
              "    <tr>\n",
              "      <th>4</th>\n",
              "      <td>0</td>\n",
              "      <td>3</td>\n",
              "      <td>19</td>\n",
              "      <td>0</td>\n",
              "      <td>30</td>\n",
              "      <td>33696</td>\n",
              "    </tr>\n",
              "  </tbody>\n",
              "</table>\n",
              "</div>"
            ],
            "text/plain": [
              "   sx  rk  yr  dg  yd     sl\n",
              "0   0   3  25   1  35  36350\n",
              "1   0   3  13   1  22  35350\n",
              "2   0   3  10   1  23  28200\n",
              "3   1   3   7   1  27  26775\n",
              "4   0   3  19   0  30  33696"
            ]
          },
          "metadata": {
            "tags": []
          },
          "execution_count": 120
        }
      ]
    },
    {
      "cell_type": "code",
      "metadata": {
        "id": "WYqK3GE8TsWO",
        "colab_type": "code",
        "colab": {
          "base_uri": "https://localhost:8080/",
          "height": 622
        },
        "outputId": "6122a448-a0c3-4768-f6fa-6e74ea80f618"
      },
      "source": [
        "from statsmodels.formula.api import ols\n",
        "from statsmodels.stats.anova import anova_lm\n",
        "\n",
        "# Fit the model\n",
        "model = ols(\"sl ~ sx+rk+dg+yr\", salary_data_encoded).fit()\n",
        "\n",
        "# Print the summary\n",
        "print(model.summary())\n",
        "\n",
        "# Peform analysis of variance on fitted linear model\n",
        "anova_results = anova_lm(model)\n",
        "\n",
        "print('\\nANOVA results')\n",
        "print(anova_results)"
      ],
      "execution_count": 121,
      "outputs": [
        {
          "output_type": "stream",
          "text": [
            "                            OLS Regression Results                            \n",
            "==============================================================================\n",
            "Dep. Variable:                     sl   R-squared:                       0.846\n",
            "Model:                            OLS   Adj. R-squared:                  0.832\n",
            "Method:                 Least Squares   F-statistic:                     64.33\n",
            "Date:                Sat, 15 Feb 2020   Prob (F-statistic):           1.80e-18\n",
            "Time:                        21:35:39   Log-Likelihood:                -476.37\n",
            "No. Observations:                  52   AIC:                             962.7\n",
            "Df Residuals:                      47   BIC:                             972.5\n",
            "Df Model:                           4                                         \n",
            "Covariance Type:            nonrobust                                         \n",
            "==============================================================================\n",
            "                 coef    std err          t      P>|t|      [0.025      0.975]\n",
            "------------------------------------------------------------------------------\n",
            "Intercept    1.11e+04   1087.116     10.212      0.000    8914.279    1.33e+04\n",
            "sx           608.1003    819.803      0.742      0.462   -1041.132    2257.332\n",
            "rk          4753.1691    458.307     10.371      0.000    3831.174    5675.164\n",
            "dg          -134.2195    715.454     -0.188      0.852   -1573.526    1305.087\n",
            "yr           391.8404     76.053      5.152      0.000     238.841     544.839\n",
            "==============================================================================\n",
            "Omnibus:                       23.435   Durbin-Watson:                   1.822\n",
            "Prob(Omnibus):                  0.000   Jarque-Bera (JB):               40.096\n",
            "Skew:                           1.424   Prob(JB):                     1.96e-09\n",
            "Kurtosis:                       6.223   Cond. No.                         34.7\n",
            "==============================================================================\n",
            "\n",
            "Warnings:\n",
            "[1] Standard Errors assume that the covariance matrix of the errors is correctly specified.\n",
            "\n",
            "ANOVA results\n",
            "            df        sum_sq       mean_sq           F        PR(>F)\n",
            "sx         1.0  1.141062e+08  1.141062e+08   19.444504  5.992174e-05\n",
            "rk         1.0  1.234998e+09  1.234998e+09  210.452363  5.601668e-19\n",
            "dg         1.0  5.040583e+06  5.040583e+06    0.858951  3.587674e-01\n",
            "yr         1.0  1.557749e+08  1.557749e+08   26.545135  5.019084e-06\n",
            "Residual  47.0  2.758102e+08  5.868302e+06         NaN           NaN\n"
          ],
          "name": "stdout"
        }
      ]
    },
    {
      "cell_type": "markdown",
      "metadata": {
        "id": "jvx1cmzCL7K7",
        "colab_type": "text"
      },
      "source": [
        "ANOVA results show that all the independent variables sex, rank, degree and yr are statistically significant."
      ]
    },
    {
      "cell_type": "markdown",
      "metadata": {
        "id": "Riqu0aTk2mxy",
        "colab_type": "text"
      },
      "source": [
        "### Part (b) and (c):"
      ]
    },
    {
      "cell_type": "code",
      "metadata": {
        "id": "-pmLM326RbZi",
        "colab_type": "code",
        "colab": {
          "base_uri": "https://localhost:8080/",
          "height": 606
        },
        "outputId": "79b82761-cfc3-4239-d7c8-d06e7236cb40"
      },
      "source": [
        "import matplotlib.pyplot as plt\n",
        "import matplotlib.patches as mpatches\n",
        "\n",
        "area = salary_data_encoded['yd']**1.5\n",
        "\n",
        "fig, ax = plt.subplots(figsize=(15, 10))\n",
        "ax.set_xlabel('Age')\n",
        "ax.set_ylabel('Salary')\n",
        "\n",
        "scatter1 = ax.scatter(salary_data_encoded_m['yr'], salary_data_encoded_m['sl'], s=salary_data_encoded_m['yd']**1.5, marker='x', c=salary_data_encoded_m['dg'], label=\"Male\")\n",
        "scatter2 = ax.scatter(salary_data_encoded_f['yr'], salary_data_encoded_f['sl'], s=salary_data_encoded_f['yd']**1.5, marker='o', c=salary_data_encoded_f['dg'], label=\"Female\")\n",
        "sx_ass = ax.plot(salary_data_encoded['yr'], 16416 + 324*salary_data_encoded['yr'], color=\"green\", linewidth=2)\n",
        "sx_aso = ax.plot(salary_data_encoded['yr'], 21770 + 194*salary_data_encoded['yr'], color=\"red\", linewidth=2)\n",
        "sx_full = ax.plot(salary_data_encoded['yr'], 24592 + 475*salary_data_encoded['yr'], color=\"orange\", linewidth=2)\n",
        "\n",
        "\n",
        "\n",
        "# produce a legend with the unique colors from the scatter\n",
        "\n",
        "\n",
        "red_patch = mpatches.Patch(color='yellow', label='Doctorate')\n",
        "blue_patch = mpatches.Patch(color='purple', label='Masters')\n",
        "red_patch2 = mpatches.Patch(color='red', label='Associate Regression Line')\n",
        "blue_patch2 = mpatches.Patch(color='green', label='Assistant Regression Line')\n",
        "red_patch3 = mpatches.Patch(color='orange', label='Full Regression Line')\n",
        "\n",
        "legend1 = ax.legend(handles=[red_patch, blue_patch, blue_patch2, red_patch2, red_patch3])\n",
        "ax.add_artist(legend1)\n",
        "legend2 = ax.legend(loc=\"lower right\")\n",
        "\n",
        "plt.show()"
      ],
      "execution_count": 76,
      "outputs": [
        {
          "output_type": "display_data",
          "data": {
            "image/png": "[encoded data removed]",
            "text/plain": [
              "<Figure size 1080x720 with 1 Axes>"
            ]
          },
          "metadata": {
            "tags": []
          }
        }
      ]
    },
    {
      "cell_type": "markdown",
      "metadata": {
        "id": "xOwH_vee2_jX",
        "colab_type": "text"
      },
      "source": [
        "**Conclusion**: Salary distribution among Professors follow a clear trend with Assistant<Associate<Full"
      ]
    },
    {
      "cell_type": "code",
      "metadata": {
        "id": "3fMtHZX6V1jQ",
        "colab_type": "code",
        "colab": {
          "base_uri": "https://localhost:8080/",
          "height": 606
        },
        "outputId": "e482b5f1-8bfb-4cf8-dca8-dbc9ffc40128"
      },
      "source": [
        "import matplotlib.pyplot as plt\n",
        "import matplotlib.patches as mpatches\n",
        "\n",
        "area = salary_data_encoded['yd']**1.5\n",
        "\n",
        "fig, ax = plt.subplots(figsize=(15, 10))\n",
        "ax.set_xlabel('Age')\n",
        "ax.set_ylabel('Salary')\n",
        "\n",
        "salary = 11100 + 608*(salary_data_encoded['sx']) + 4753*(salary_data_encoded['rk']) - 134*(salary_data_encoded['dg']) + 391.84*(salary_data_encoded['yr'])\n",
        "\n",
        "\n",
        "scatter1 = ax.scatter(salary_data_encoded_m['yr'], salary_data_encoded_m['sl'], s=salary_data_encoded_m['yd']**1.5, marker='x', c=salary_data_encoded_m['dg'], label=\"Male\")\n",
        "scatter2 = ax.scatter(salary_data_encoded_f['yr'], salary_data_encoded_f['sl'], s=salary_data_encoded_f['yd']**1.5, marker='o', c=salary_data_encoded_f['dg'], label=\"Female\")\n",
        "sx_m = ax.plot(salary_data_encoded['yr'], 18222 + 741*salary_data_encoded['yr'], color=\"green\", linewidth= 2)\n",
        "sx_f = ax.plot(salary_data_encoded['yr'], 17651 + 910*salary_data_encoded['yr'], color=\"red\", linewidth=2)\n",
        "\n",
        "\n",
        "red_patch = mpatches.Patch(color='yellow', label='Doctorate')\n",
        "blue_patch = mpatches.Patch(color='purple', label='Masters')\n",
        "red_patch2 = mpatches.Patch(color='red', label='Female Regression Line')\n",
        "blue_patch2 = mpatches.Patch(color='green', label='Male Regression Line')\n",
        "\n",
        "legend1 = ax.legend(handles=[red_patch, blue_patch, red_patch2, blue_patch2])\n",
        "ax.add_artist(legend1)\n",
        "legend2 = ax.legend(loc=\"lower right\")\n",
        "\n",
        "plt.show()"
      ],
      "execution_count": 78,
      "outputs": [
        {
          "output_type": "display_data",
          "data": {
            "image/png": "[encoded data removed]",
            "text/plain": [
              "<Figure size 1080x720 with 1 Axes>"
            ]
          },
          "metadata": {
            "tags": []
          }
        }
      ]
    },
    {
      "cell_type": "markdown",
      "metadata": {
        "id": "Ld20nUvm2O6t",
        "colab_type": "text"
      },
      "source": [
        "**Conclusion**: Female Professors are seen to earn more at senior-level as compared to their male counterparts.\n",
        "\n"
      ]
    },
    {
      "cell_type": "code",
      "metadata": {
        "id": "jJF4XkFZTw0l",
        "colab_type": "code",
        "colab": {
          "base_uri": "https://localhost:8080/",
          "height": 606
        },
        "outputId": "f8f12378-fca6-49a9-d921-f21bd337ce98"
      },
      "source": [
        "import matplotlib.pyplot as plt\n",
        "import matplotlib.patches as mpatches\n",
        "\n",
        "area = salary_data_encoded['yd']**1.5\n",
        "\n",
        "fig, ax = plt.subplots(figsize=(15, 10))\n",
        "ax.set_xlabel('Age')\n",
        "ax.set_ylabel('Salary')\n",
        "\n",
        "scatter1 = ax.scatter(salary_data_encoded_m['yr'], salary_data_encoded_m['sl'], s=salary_data_encoded_m['yd']**1.5, marker='x', c=salary_data_encoded_m['dg'], label=\"Male\")\n",
        "scatter2 = ax.scatter(salary_data_encoded_f['yr'], salary_data_encoded_f['sl'], s=salary_data_encoded_f['yd']**1.5, marker='o', c=salary_data_encoded_f['dg'], label=\"Female\")\n",
        "sx_doc = ax.plot(salary_data_encoded['yr'], 17321 + 894*salary_data_encoded['yr'], color=\"green\", linewidth= 2)\n",
        "sx_mas = ax.plot(salary_data_encoded['yr'], 20915 + 402*salary_data_encoded['yr'], color=\"red\", linewidth=2)\n",
        "\n",
        "\n",
        "# produce a legend with the unique colors from the scatter\n",
        "\n",
        "\n",
        "red_patch = mpatches.Patch(color='yellow', label='Doctorate')\n",
        "blue_patch = mpatches.Patch(color='purple', label='Masters')\n",
        "red_patch2 = mpatches.Patch(color='red', label='Masters Regression Line')\n",
        "blue_patch2 = mpatches.Patch(color='green', label='Doctors Regression Line')\n",
        "\n",
        "legend1 = ax.legend(handles=[red_patch, blue_patch, red_patch2, blue_patch2])\n",
        "ax.add_artist(legend1)\n",
        "legend2 = ax.legend(loc=\"lower right\")\n",
        "\n",
        "plt.show()"
      ],
      "execution_count": 73,
      "outputs": [
        {
          "output_type": "display_data",
          "data": {
            "image/png": "[encoded data removed]",
            "text/plain": [
              "<Figure size 1080x720 with 1 Axes>"
            ]
          },
          "metadata": {
            "tags": []
          }
        }
      ]
    },
    {
      "cell_type": "markdown",
      "metadata": {
        "id": "0JRVkmVl3pEj",
        "colab_type": "text"
      },
      "source": [
        "**Conclusion**: Professors with doctorate are seen to earn higher in the long-run."
      ]
    },
    {
      "cell_type": "markdown",
      "metadata": {
        "id": "LLAGNxwlyj4D",
        "colab_type": "text"
      },
      "source": [
        "### Necessary Calculations for above:"
      ]
    },
    {
      "cell_type": "code",
      "metadata": {
        "id": "fChM2QsNaYhR",
        "colab_type": "code",
        "colab": {}
      },
      "source": [
        "salary_data_encoded_m = salary_data_encoded[salary_data_encoded.sx == 0]\n",
        "salary_data_encoded_f = salary_data_encoded[salary_data_encoded.sx == 1]"
      ],
      "execution_count": 0,
      "outputs": []
    },
    {
      "cell_type": "code",
      "metadata": {
        "id": "i_i_0BHLnFZp",
        "colab_type": "code",
        "colab": {}
      },
      "source": [
        "from sklearn.linear_model import LinearRegression\n",
        "import numpy as np\n",
        "\n",
        "x = salary_data_encoded_m[\"yr\"].values\n",
        "\n",
        "regx = LinearRegression().fit(x.reshape(-1, 1), salary_data_encoded_m[\"sl\"])"
      ],
      "execution_count": 0,
      "outputs": []
    },
    {
      "cell_type": "code",
      "metadata": {
        "id": "reBfPgNU3k1i",
        "colab_type": "code",
        "colab": {
          "base_uri": "https://localhost:8080/",
          "height": 50
        },
        "outputId": "6717239c-d41d-4c56-912f-4d026227b46d"
      },
      "source": [
        "print(regx.intercept_)\n",
        "print(regx.coef_)"
      ],
      "execution_count": 38,
      "outputs": [
        {
          "output_type": "stream",
          "text": [
            "18222.583526062976\n",
            "[741.02357232]\n"
          ],
          "name": "stdout"
        }
      ]
    },
    {
      "cell_type": "code",
      "metadata": {
        "id": "GnQDtEyz4bYn",
        "colab_type": "code",
        "colab": {
          "base_uri": "https://localhost:8080/",
          "height": 50
        },
        "outputId": "c291243e-1379-44d7-bcdc-f3a75f2ccf65"
      },
      "source": [
        "x = salary_data_encoded_f[\"yr\"].values\n",
        "\n",
        "regx = LinearRegression().fit(x.reshape(-1, 1), salary_data_encoded_f[\"sl\"])\n",
        "\n",
        "print(regx.intercept_)\n",
        "print(regx.coef_)"
      ],
      "execution_count": 40,
      "outputs": [
        {
          "output_type": "stream",
          "text": [
            "17651.82919412063\n",
            "[910.07704004]\n"
          ],
          "name": "stdout"
        }
      ]
    },
    {
      "cell_type": "code",
      "metadata": {
        "id": "ibkE2ab84yo4",
        "colab_type": "code",
        "colab": {}
      },
      "source": [
        "salary_data_encoded_ass = salary_data_encoded[salary_data_encoded.rk == 1]\n",
        "salary_data_encoded_aso = salary_data_encoded[salary_data_encoded.rk == 2]\n",
        "salary_data_encoded_full = salary_data_encoded[salary_data_encoded.rk == 3]"
      ],
      "execution_count": 0,
      "outputs": []
    },
    {
      "cell_type": "code",
      "metadata": {
        "id": "DvKLH8Y9Q75q",
        "colab_type": "code",
        "colab": {
          "base_uri": "https://localhost:8080/",
          "height": 50
        },
        "outputId": "392ffcaa-1bf3-420b-f159-8174118fd03a"
      },
      "source": [
        "x = salary_data_encoded_full[\"yr\"].values\n",
        "\n",
        "regx = LinearRegression().fit(x.reshape(-1, 1), salary_data_encoded_full[\"sl\"])\n",
        "\n",
        "print(regx.intercept_)\n",
        "print(regx.coef_)"
      ],
      "execution_count": 66,
      "outputs": [
        {
          "output_type": "stream",
          "text": [
            "24592.982745871333\n",
            "[475.67767644]\n"
          ],
          "name": "stdout"
        }
      ]
    },
    {
      "cell_type": "code",
      "metadata": {
        "id": "6APjlm9aS8Ix",
        "colab_type": "code",
        "colab": {}
      },
      "source": [
        "salary_data_encoded_mas = salary_data_encoded[salary_data_encoded.dg == 0]\n",
        "salary_data_encoded_doc = salary_data_encoded[salary_data_encoded.dg == 1]"
      ],
      "execution_count": 0,
      "outputs": []
    },
    {
      "cell_type": "code",
      "metadata": {
        "id": "QJieBsqHThsi",
        "colab_type": "code",
        "colab": {
          "base_uri": "https://localhost:8080/",
          "height": 50
        },
        "outputId": "85a75bd9-5ee1-4093-8af4-17142050941d"
      },
      "source": [
        "x = salary_data_encoded_mas[\"yr\"].values\n",
        "\n",
        "regx = LinearRegression().fit(x.reshape(-1, 1), salary_data_encoded_mas[\"sl\"])\n",
        "\n",
        "print(regx.intercept_)\n",
        "print(regx.coef_)"
      ],
      "execution_count": 69,
      "outputs": [
        {
          "output_type": "stream",
          "text": [
            "20915.552325581397\n",
            "[402.50687104]\n"
          ],
          "name": "stdout"
        }
      ]
    },
    {
      "cell_type": "code",
      "metadata": {
        "id": "HeRsHyEQTr5z",
        "colab_type": "code",
        "colab": {
          "base_uri": "https://localhost:8080/",
          "height": 50
        },
        "outputId": "664890fb-58e7-466e-dcbd-a06b1dba47bc"
      },
      "source": [
        "x = salary_data_encoded_doc[\"yr\"].values\n",
        "\n",
        "regx = LinearRegression().fit(x.reshape(-1, 1), salary_data_encoded_doc[\"sl\"])\n",
        "\n",
        "print(regx.intercept_)\n",
        "print(regx.coef_)"
      ],
      "execution_count": 70,
      "outputs": [
        {
          "output_type": "stream",
          "text": [
            "17321.091937347195\n",
            "[894.02074098]\n"
          ],
          "name": "stdout"
        }
      ]
    },
    {
      "cell_type": "code",
      "metadata": {
        "id": "QSNkjYeLUHT7",
        "colab_type": "code",
        "colab": {}
      },
      "source": [
        ""
      ],
      "execution_count": 0,
      "outputs": []
    }
  ]
}